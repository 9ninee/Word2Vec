{
 "cells": [
  {
   "cell_type": "code",
   "execution_count": 6,
   "metadata": {},
   "outputs": [
    {
     "name": "stdout",
     "output_type": "stream",
     "text": [
      "Asda 0.8458072543144226\n",
      "Morrisons 0.7941623330116272\n",
      "Waitrose 0.7611736059188843\n",
      "Sainsbury 0.7587841749191284\n",
      "Sainsburys 0.7365893721580505\n",
      "Lidl 0.7329580783843994\n",
      "Somerfield 0.7301111817359924\n",
      "Tescos 0.726475715637207\n",
      "ASDA 0.7158898711204529\n",
      "Poundland 0.7026618719100952\n"
     ]
    }
   ],
   "source": [
    "from gensim.models import KeyedVectors\n",
    "from Function_Testing import Acc_Function\n",
    "# load the pre-trained Google News model\n",
    "model = KeyedVectors.load_word2vec_format('GoogleNews-vectors-negative300.bin', binary=True)\n",
    "\n",
    "# find the most similar words to \"king\"\n",
    "similar_words = model.most_similar('Tesco')\n",
    "\n",
    "# print the similar words\n",
    "for word, score in similar_words:\n",
    "    print(word, score)\n"
   ]
  },
  {
   "cell_type": "code",
   "execution_count": 7,
   "metadata": {},
   "outputs": [],
   "source": [
    "# "
   ]
  }
 ],
 "metadata": {
  "kernelspec": {
   "display_name": "Python 3.10.6 64-bit",
   "language": "python",
   "name": "python3"
  },
  "language_info": {
   "codemirror_mode": {
    "name": "ipython",
    "version": 3
   },
   "file_extension": ".py",
   "mimetype": "text/x-python",
   "name": "python",
   "nbconvert_exporter": "python",
   "pygments_lexer": "ipython3",
   "version": "3.10.6"
  },
  "orig_nbformat": 4,
  "vscode": {
   "interpreter": {
    "hash": "aee8b7b246df8f9039afb4144a1f6fd8d2ca17a180786b69acc140d282b71a49"
   }
  }
 },
 "nbformat": 4,
 "nbformat_minor": 2
}
